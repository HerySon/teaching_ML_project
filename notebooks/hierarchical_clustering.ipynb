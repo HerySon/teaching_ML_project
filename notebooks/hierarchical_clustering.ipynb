{
  "nbformat": 4,
  "nbformat_minor": 0,
  "metadata": {
    "colab": {
      "name": "Projet_Food.ipynb",
      "provenance": [],
      "collapsed_sections": []
    },
    "kernelspec": {
      "name": "python3",
      "display_name": "Python 3"
    },
    "language_info": {
      "name": "python"
    }
  },
  "cells": [
    {
      "cell_type": "code",
      "source": [
        "import pandas as pd\n",
        "import numpy as np\n",
        "import sklearn as sk\n",
        "from sklearn.cluster import AgglomerativeClustering\n",
        "from sklearn.model_selection import GridSearchCV\n",
        "import matplotlib.pyplot as plt\n",
        "from scipy.cluster.hierarchy import dendrogram, linkage"
      ],
      "metadata": {
        "id": "04cJDlgkxgRp"
      },
      "execution_count": 13,
      "outputs": []
    },
    {
      "cell_type": "code",
      "source": [
        "df = pd.read_csv('https://filedn.eu/lefeldrXcsSFgCcgc48eaLY/datasets/clusteringOFF/cleaned_OFF_dataset.csv',sep='\\t')"
      ],
      "metadata": {
        "colab": {
          "base_uri": "https://localhost:8080/"
        },
        "id": "3486y9dh-k-G",
        "outputId": "cc895c4c-134e-4fe2-f9dd-ecceae822fdf"
      },
      "execution_count": 9,
      "outputs": [
        {
          "output_type": "stream",
          "name": "stderr",
          "text": [
            "/usr/local/lib/python3.7/dist-packages/IPython/core/interactiveshell.py:2882: DtypeWarning: Columns (0) have mixed types.Specify dtype option on import or set low_memory=False.\n",
            "  exec(code_obj, self.user_global_ns, self.user_ns)\n"
          ]
        }
      ]
    },
    {
      "cell_type": "code",
      "source": [
        "df.info()"
      ],
      "metadata": {
        "id": "fbxdoPs1rUn6"
      },
      "execution_count": null,
      "outputs": []
    },
    {
      "cell_type": "code",
      "source": [
        "def AggloClusteringTest(df):\n",
        "    \"\"\"\n",
        "    Test the AgglomerativeClustering clustering function with different parameters using grid search\n",
        "\n",
        "    param:\n",
        "        df -- dataframe\n",
        "    return:\n",
        "        grid_search : trained grid_search with all the scores for every parameter tested\n",
        "    \"\"\"\n",
        "    link_list = ['ward','average','complete','single']\n",
        "    n_cluster_list = range(1,5)\n",
        "    scoring_method_list = ['adjusted_mutual_info_score','adjusted_rand_score','completeness_score','fowlkes_mallows_score','homogeneity_score','mutual_info_score','normalized_mutual_info_score','rand_score','v_measure_score']\n",
        "\n",
        "    agglo = AgglomerativeClustering()\n",
        "\n",
        "    grid_search = GridSearchCV(\n",
        "        agglo, \n",
        "        param_grid={\n",
        "            'n_clusters': n_cluster_list,\n",
        "            'linkage': link_list},\n",
        "        scoring='adjusted_mutual_info_score')\n",
        "\n",
        "    grid_search.fit(df_cluster)\n",
        "    return grid_search\n"
      ],
      "metadata": {
        "id": "YvVCUvkBySBL"
      },
      "execution_count": 18,
      "outputs": []
    },
    {
      "cell_type": "code",
      "source": [
        "def Analyze(grid_search):\n",
        "    \"\"\"\n",
        "    Analyze the result score of the grid_search\n",
        "\n",
        "    param:\n",
        "        grid_search -- trained grid_search containing the scores up for analysing\n",
        "    \"\"\"\n",
        "    grid_scores = grid_search.cv_results_\n",
        "    plt.grid_search(grid_scores, change='n_estimators', kind='bar')"
      ],
      "metadata": {
        "id": "4WpsGpYuz4hb"
      },
      "execution_count": 19,
      "outputs": []
    },
    {
      "cell_type": "code",
      "source": [
        "columns = list(df.select_dtypes(include=['float64']).columns)\n",
        "df_cluster = df[columns]"
      ],
      "metadata": {
        "id": "J1NbQbhHsEiw"
      },
      "execution_count": 20,
      "outputs": []
    },
    {
      "cell_type": "code",
      "source": [
        "df_cluster = df_cluster.drop(columns=['energy-kcal_100g','fat_100g','saturated-fat_100g','carbohydrates_100g','sugars_100g','proteins_100g','salt_100g','sodium_100g'])"
      ],
      "metadata": {
        "id": "JE2q3D5Xr2Uq"
      },
      "execution_count": 21,
      "outputs": []
    },
    {
      "cell_type": "code",
      "source": [
        "data_to_analyze = AggloClusteringTest(df_cluster)\n",
        "Analyze(data_to_analyze)"
      ],
      "metadata": {
        "id": "XDm7p7CR5HES"
      },
      "execution_count": null,
      "outputs": []
    }
  ]
}