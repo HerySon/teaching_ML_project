{
 "cells": [
  {
   "cell_type": "code",
   "execution_count": 2,
   "metadata": {},
   "outputs": [
    {
     "name": "stderr",
     "output_type": "stream",
     "text": [
      "/tmp/ipykernel_928/988412624.py:3: DtypeWarning: Columns (0,8,13,19,20,21,22,23,27,28,29,31,32,40,41,42,52,55,64,66) have mixed types. Specify dtype option on import or set low_memory=False.\n",
      "  df = pd.read_csv(\"../raw_data/en.openfoodfacts.org.products.csv\", delimiter='\\t')\n"
     ]
    }
   ],
   "source": [
    "import pandas as pd\n",
    "\n",
    "df = pd.read_csv(\"../raw_data/en.openfoodfacts.org.products.csv\", delimiter='\\t')"
   ]
  },
  {
   "cell_type": "markdown",
   "metadata": {},
   "source": [
    "Nous supprimons certaines colonnes qui n'apporteront (a priori) rien pour le clustering:\n",
    "- ```urlcreator, created_t, created_datetime, states, states_tags, last_modified_datetime, last_modified_t, image_url, image_small_url, image_nutrition_url, image_nutrition_small_url, states, states_en``` &rarr; Variables portant sur l'entrée du produit dans la bdd openfoodfacts\n",
    "- ```product_name``` &rarr; A étudier lorsque la variable sera encodée pour voir les changements sur le modèle\n",
    "- ```countries, countries_en``` &rarr; Redondant avec country_tags\n",
    "- ```energy_100g``` &rarr; redondant avec ```energy-kcal_100g```\n",
    "- ```brands``` &rarr; Nom de la marque."
   ]
  },
  {
   "cell_type": "code",
   "execution_count": 3,
   "metadata": {},
   "outputs": [],
   "source": [
    "columns = ['url', 'creator', 'created_t', 'created_datetime', 'states', 'states_tags', 'last_modified_datetime', 'last_modified_t',\n",
    "'image_url', 'image_small_url', 'image_nutrition_url', 'image_nutrition_small_url', 'countries','countries_en',\n",
    "'energy_100g', 'product_name', 'states', 'states_en', 'brands']\n",
    "\n",
    "df.drop(columns=columns, inplace=True)\n",
    "# to_drop = [col for col in columns if col in df.columns]\n",
    "# df.drop(columns=to_drop, inplace=True)\n"
   ]
  },
  {
   "cell_type": "code",
   "execution_count": 4,
   "metadata": {},
   "outputs": [
    {
     "name": "stdout",
     "output_type": "stream",
     "text": [
      "<class 'pandas.core.frame.DataFrame'>\n",
      "RangeIndex: 2059358 entries, 0 to 2059357\n",
      "Columns: 169 entries, code to carnitine_100g\n",
      "dtypes: float64(124), object(45)\n",
      "memory usage: 2.6+ GB\n"
     ]
    }
   ],
   "source": [
    "df.info()"
   ]
  },
  {
   "cell_type": "markdown",
   "metadata": {},
   "source": [
    "Les colonnes restantes:\n",
    "\n",
    "- ```pnns_groups_1``` et ```pnns_groups_2``` &rarr; Ces colonnes correspondent deja \n",
    "- ```fat_100g, saturated-fat_100g```, ```carbohydrates_100g```, ```sugars_100g```, ```proteins_100g```, ```salt_100g```, ```sodium_100g``` &rarr; Valeurs nutritionelles\n",
    "- ```energy-kcal_100g``` &rarr; Les fabricants de produits alimentaires calculent cette valeur en additionnant où kcal/g de protéines, lipides et glucides contenus dans leur produit. [source](https://fr.wikipedia.org/wiki/Composition_nutritionnelle_des_aliments) &rarr; à vérifier si cette valeur n'est pas redondante avec les valeurs nutritionelles\n",
    "- ```nutrition-score-fr_100g```\n",
    "-  ```brands_tags``` &rarr; Nom de la marque sans caractères spéciaux. Un certain nombre de Nan mais une information qui est parfois utile lorsqu'elle est présente (Intuitivement par exemple nous savons qu'un produit de la marque Picard sera très probablement un produit surgelé). A encoder\n",
    "- ```code``` &rarr; Cette variable correspond au code EAN13. Une partie du code correspond au pays et à l'entreprise emmetrice du produit [source](https://www.laintimes.com/explication-et-construction-des-codes-barres-suivant-la-norme-ean-13/)\n",
    "A réencoder en 3 colonnes différentes, `Pays`, `Entreprise`, `Code Produit` et supprimer le dernier chiffre\n",
    "- ```country_tags``` &rarr; Pays ou le produit est vendu"
   ]
  },
  {
   "cell_type": "markdown",
   "metadata": {},
   "source": [
    "---"
   ]
  }
 ],
 "metadata": {
  "interpreter": {
   "hash": "8321b1d39afaccbc96ba75155b0cc28e178bc720410686bcc3a29551e6f8c946"
  },
  "kernelspec": {
   "display_name": "Python 3.8.8 64-bit ('base': conda)",
   "language": "python",
   "name": "python3"
  },
  "language_info": {
   "codemirror_mode": {
    "name": "ipython",
    "version": 3
   },
   "file_extension": ".py",
   "mimetype": "text/x-python",
   "name": "python",
   "nbconvert_exporter": "python",
   "pygments_lexer": "ipython3",
   "version": "3.9.7"
  },
  "orig_nbformat": 4
 },
 "nbformat": 4,
 "nbformat_minor": 2
}
